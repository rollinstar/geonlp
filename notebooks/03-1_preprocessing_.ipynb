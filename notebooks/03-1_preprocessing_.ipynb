{
 "cells": [
  {
   "cell_type": "code",
   "execution_count": 1,
   "metadata": {},
   "outputs": [],
   "source": [
    "from modules.news_collector import DaumNewsCollector\n",
    "import json\n",
    "import time\n",
    "from random import uniform\n",
    "import pandas as pd"
   ]
  },
  {
   "cell_type": "code",
   "execution_count": 2,
   "metadata": {},
   "outputs": [],
   "source": [
    "with open('./data/source/links_201901.json', 'r') as f:\n",
    "    links = json.load(f)"
   ]
  },
  {
   "cell_type": "code",
   "execution_count": 3,
   "metadata": {},
   "outputs": [
    {
     "ename": "FileNotFoundError",
     "evalue": "[Errno 2] No such file or directory: './data/news/news_201901.json'",
     "output_type": "error",
     "traceback": [
      "\u001b[0;31m---------------------------------------------------------------------------\u001b[0m",
      "\u001b[0;31mFileNotFoundError\u001b[0m                         Traceback (most recent call last)",
      "\u001b[0;32m<ipython-input-3-434e2fdab1b0>\u001b[0m in \u001b[0;36m<module>\u001b[0;34m\u001b[0m\n\u001b[1;32m      1\u001b[0m \u001b[0;31m# 2019.01 news json file\u001b[0m\u001b[0;34m\u001b[0m\u001b[0;34m\u001b[0m\u001b[0;34m\u001b[0m\u001b[0m\n\u001b[0;32m----> 2\u001b[0;31m \u001b[0;32mwith\u001b[0m \u001b[0mopen\u001b[0m\u001b[0;34m(\u001b[0m\u001b[0;34m'./data/news/news_201901.json'\u001b[0m\u001b[0;34m,\u001b[0m \u001b[0;34m'r'\u001b[0m\u001b[0;34m)\u001b[0m \u001b[0;32mas\u001b[0m \u001b[0mf\u001b[0m\u001b[0;34m:\u001b[0m\u001b[0;34m\u001b[0m\u001b[0;34m\u001b[0m\u001b[0m\n\u001b[0m\u001b[1;32m      3\u001b[0m     \u001b[0mnews_contents\u001b[0m \u001b[0;34m=\u001b[0m \u001b[0mjson\u001b[0m\u001b[0;34m.\u001b[0m\u001b[0mload\u001b[0m\u001b[0;34m(\u001b[0m\u001b[0mf\u001b[0m\u001b[0;34m)\u001b[0m\u001b[0;34m\u001b[0m\u001b[0;34m\u001b[0m\u001b[0m\n",
      "\u001b[0;31mFileNotFoundError\u001b[0m: [Errno 2] No such file or directory: './data/news/news_201901.json'"
     ]
    }
   ],
   "source": [
    "# 2019.01 news json file\n",
    "with open('./data/news/news_201901.json', 'r') as f:\n",
    "    news_contents = json.load(f)"
   ]
  },
  {
   "cell_type": "code",
   "execution_count": 4,
   "metadata": {},
   "outputs": [
    {
     "name": "stdout",
     "output_type": "stream",
     "text": [
      "<class 'list'>\n",
      "463\n"
     ]
    }
   ],
   "source": [
    "print(type(links))\n",
    "print(len(links))"
   ]
  },
  {
   "cell_type": "code",
   "execution_count": null,
   "metadata": {},
   "outputs": [],
   "source": [
    "# links[0]['counts']\n",
    "total_counts = 0\n",
    "for ele in links:\n",
    "    n = ele['counts']\n",
    "    total_counts += n\n",
    "    \n",
    "print(total_counts)\n",
    "print(len(news_contents))\n",
    "news_contents[2]"
   ]
  },
  {
   "cell_type": "code",
   "execution_count": null,
   "metadata": {},
   "outputs": [],
   "source": [
    "for idx, nc in enumerate(news_contents):\n",
    "    d = nc['news_code']\n",
    "    news_contents[idx]['reg_date'] = '{}-{}-{}'.format(d[0:4], d[4:6], d[6:8])\n",
    "\n",
    "news_contents[0:10]"
   ]
  },
  {
   "cell_type": "code",
   "execution_count": null,
   "metadata": {},
   "outputs": [],
   "source": [
    "# df = pd.DataFrame.from_dict(news_contents)\n",
    "# df[df.result_code == '0'][0:10]"
   ]
  },
  {
   "cell_type": "code",
   "execution_count": null,
   "metadata": {},
   "outputs": [],
   "source": [
    "failed = list(filter(lambda news:news[1]['result_code'] == '0', enumerate(news_contents)))"
   ]
  },
  {
   "cell_type": "code",
   "execution_count": null,
   "metadata": {},
   "outputs": [],
   "source": [
    "len(failed)"
   ]
  },
  {
   "cell_type": "code",
   "execution_count": null,
   "metadata": {},
   "outputs": [],
   "source": [
    "failed_code = []\n",
    "for e in failed[:2]:\n",
    "    print(e)\n",
    "#     failed_code.append(e.news_code)\n",
    "len(failed_code)"
   ]
  },
  {
   "cell_type": "code",
   "execution_count": null,
   "metadata": {},
   "outputs": [],
   "source": [
    "dnc = DaumNewsCollector(1, 5)"
   ]
  },
  {
   "cell_type": "code",
   "execution_count": null,
   "metadata": {},
   "outputs": [],
   "source": [
    "news_contents[32]"
   ]
  },
  {
   "cell_type": "code",
   "execution_count": null,
   "metadata": {},
   "outputs": [],
   "source": [
    "test = dnc.create_news_contents_data('20190101212700201')\n",
    "test"
   ]
  },
  {
   "cell_type": "code",
   "execution_count": null,
   "metadata": {},
   "outputs": [],
   "source": [
    "n = 0\n",
    "for f in failed:\n",
    "    n += 1\n",
    "    print('Start ', n)\n",
    "    idx = f[0]\n",
    "    code = f[1]['news_code']\n",
    "    content = dnc.create_news_contents_data(code)\n",
    "    news_contents[idx]['resource_id'] = content['resource_id']\n",
    "    news_contents[idx]['title'] = content['title']\n",
    "    news_contents[idx]['sentences'] = content['sentences']\n",
    "    news_contents[idx]['result_code'] = '1'\n",
    "    news_contents[idx]['updated_at'] = content['updated_at']\n",
    "    f = uniform(1, 5)\n",
    "    time.sleep(f)\n",
    "    print('End ', n)\n",
    "    print('Interval:  ', str('%.2f' % f) + 'sec')\n",
    "print('Finish')\n",
    "print('counte >', n)"
   ]
  },
  {
   "cell_type": "code",
   "execution_count": null,
   "metadata": {},
   "outputs": [],
   "source": [
    "# The length of failed_2 should be zero.\n",
    "failed_2 = list(filter(lambda news:news[1]['result_code'] == '0', enumerate(news_contents)))\n",
    "len(failed_2)"
   ]
  },
  {
   "cell_type": "code",
   "execution_count": null,
   "metadata": {},
   "outputs": [],
   "source": [
    "with open('./data/news/news_201901_fixed.json', 'w', encoding='utf-8') as make_file:\n",
    "    json.dump(news_contents, make_file, indent=\"\\t\")"
   ]
  }
 ],
 "metadata": {
  "kernelspec": {
   "display_name": "Python 3",
   "language": "python",
   "name": "python3"
  },
  "language_info": {
   "codemirror_mode": {
    "name": "ipython",
    "version": 3
   },
   "file_extension": ".py",
   "mimetype": "text/x-python",
   "name": "python",
   "nbconvert_exporter": "python",
   "pygments_lexer": "ipython3",
   "version": "3.6.9"
  }
 },
 "nbformat": 4,
 "nbformat_minor": 4
}
