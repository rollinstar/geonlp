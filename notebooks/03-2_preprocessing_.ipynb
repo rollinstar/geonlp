{
 "cells": [
  {
   "cell_type": "code",
   "execution_count": 1,
   "metadata": {},
   "outputs": [],
   "source": [
    "from modules.news_collector import DaumNewsCollector\n",
    "import json\n",
    "import time\n",
    "from random import uniform\n",
    "import pandas as pd"
   ]
  },
  {
   "cell_type": "code",
   "execution_count": 4,
   "metadata": {},
   "outputs": [],
   "source": [
    "with open('./data/news/201901/news_201901_fixed.json') as f:\n",
    "    news = json.load(f)"
   ]
  },
  {
   "cell_type": "code",
   "execution_count": 5,
   "metadata": {},
   "outputs": [
    {
     "data": {
      "text/plain": [
       "{'resource_id': 'b0d99f623a483d40b8c4c7fd008fbcff',\n",
       " 'news_code': '20190101235354271',\n",
       " 'url': 'http://news.v.daum.net/v/20190101235354271',\n",
       " 'title': '대피소에서 밤 보내는 주민들',\n",
       " 'reg_date': '2019-01-01',\n",
       " 'sentences': [' (양양=뉴스1) 서근영 기자 = 1일 강원도 양양군 서면 송천리 일대 야산에서 발생한 산불로 대피한 정다운마을 주민들이 대피소인 상평초등학교에서 밤을 보내고 있다. 2019.1.1/뉴스1',\n",
       "  'sky4018@news1.kr',\n",
       "  '<저작권자 © 뉴스1코리아, 무단전재 및 재배포 금지> '],\n",
       " 'result_code': '1',\n",
       " 'created_at': '2020-02-29 13:34:09',\n",
       " 'updated_at': '2020-02-29 13:34:09'}"
      ]
     },
     "execution_count": 5,
     "metadata": {},
     "output_type": "execute_result"
    }
   ],
   "source": [
    "news[0]"
   ]
  },
  {
   "cell_type": "code",
   "execution_count": null,
   "metadata": {},
   "outputs": [],
   "source": [
    "sentences = []\n",
    "for n in news:\n",
    "#     print(n['resource_id'])\n",
    "#     print(n['url'])\n",
    "    for s in n['sentences']:\n",
    "        d = {\n",
    "            'pid': n['resource_id'],\n",
    "            'sentence': s\n",
    "        }\n",
    "        sentences.append(d)"
   ]
  },
  {
   "cell_type": "code",
   "execution_count": null,
   "metadata": {},
   "outputs": [],
   "source": [
    "sentences"
   ]
  },
  {
   "cell_type": "code",
   "execution_count": null,
   "metadata": {},
   "outputs": [],
   "source": [
    "with open('./data/news/201901/sentences.json', 'w', encoding='utf-8') as make_file:\n",
    "    json.dump(sentences, make_file, indent=\"\\t\")"
   ]
  }
 ],
 "metadata": {
  "kernelspec": {
   "display_name": "Python 3",
   "language": "python",
   "name": "python3"
  },
  "language_info": {
   "codemirror_mode": {
    "name": "ipython",
    "version": 3
   },
   "file_extension": ".py",
   "mimetype": "text/x-python",
   "name": "python",
   "nbconvert_exporter": "python",
   "pygments_lexer": "ipython3",
   "version": "3.6.9"
  }
 },
 "nbformat": 4,
 "nbformat_minor": 4
}
