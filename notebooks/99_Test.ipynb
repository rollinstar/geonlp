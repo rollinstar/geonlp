{
 "cells": [
  {
   "cell_type": "code",
   "execution_count": 1,
   "metadata": {},
   "outputs": [],
   "source": [
    "from modules.news_collector import DaumNewsCollector\n",
    "dnc = DaumNewsCollector(1, 5)"
   ]
  },
  {
   "cell_type": "code",
   "execution_count": 2,
   "metadata": {},
   "outputs": [
    {
     "name": "stdout",
     "output_type": "stream",
     "text": [
      "{'resource_id': '320d7a2cba3a6d9f724b026ca61b9e22', 'news_code': '20190101214141334', 'url': 'http://news.v.daum.net/v/20190101214141334', 'title': '한라산 등반하던 60대 등반객 쓰러져 숨져', 'reg_date': '2019-01-01', 'sentences': ['(제주=연합뉴스) 전지혜 기자 = 1일 낮 12시 32분께 제주 한라산 관음사 코스로 등반하던 양모(60·제주) 씨가 삼각봉대피소(해발 1천400ｍ) 인근에서 가슴 통증을 호소하며 쓰러졌다는 신고가 소방당국에 접수됐다.', '양 씨는 출동한 119구급대 등에 의해 제주시내 병원으로 옮겨졌으나 숨졌다.', '제주도 소방안전본부는 한라산국립공원 구조 요원과 119대원들이 모노레일과 구급차를 이용해 신고 접수 2시간여 만에 양 씨를 병원으로 옮겼으나 결국 사망 판정을 받았다고 설명했다.', 'atoz@yna.co.kr'], 'result_code': '1', 'created_at': '2020-03-01 05:27:27', 'updated_at': '2020-03-01 05:27:27'}\n"
     ]
    }
   ],
   "source": [
    "# #cSub > div > span > span:nth-child(2)\n",
    "result = dnc.create_news_contents_data('20190101214141334')\n",
    "print(result)"
   ]
  }
 ],
 "metadata": {
  "kernelspec": {
   "display_name": "Python 3",
   "language": "python",
   "name": "python3"
  },
  "language_info": {
   "codemirror_mode": {
    "name": "ipython",
    "version": 3
   },
   "file_extension": ".py",
   "mimetype": "text/x-python",
   "name": "python",
   "nbconvert_exporter": "python",
   "pygments_lexer": "ipython3",
   "version": "3.6.9"
  }
 },
 "nbformat": 4,
 "nbformat_minor": 4
}
