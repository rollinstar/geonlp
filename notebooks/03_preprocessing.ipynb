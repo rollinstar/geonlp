{
 "cells": [
  {
   "cell_type": "code",
   "execution_count": 1,
   "metadata": {},
   "outputs": [],
   "source": [
    "from modules.news_collector import DaumNewsCollector\n",
    "import json\n",
    "import time\n",
    "from random import uniform\n",
    "import pandas as pd"
   ]
  },
  {
   "cell_type": "code",
   "execution_count": 2,
   "metadata": {},
   "outputs": [],
   "source": [
    "with open('./data/source/links_201901.json', 'r') as f:\n",
    "    links = json.load(f)"
   ]
  },
  {
   "cell_type": "code",
   "execution_count": 3,
   "metadata": {},
   "outputs": [],
   "source": [
    "with open('./data/news/news_201901.json', 'r') as f:\n",
    "    news_contents = json.load(f)"
   ]
  },
  {
   "cell_type": "code",
   "execution_count": 4,
   "metadata": {},
   "outputs": [
    {
     "name": "stdout",
     "output_type": "stream",
     "text": [
      "<class 'list'>\n",
      "463\n"
     ]
    }
   ],
   "source": [
    "print(type(links))\n",
    "print(len(links))"
   ]
  },
  {
   "cell_type": "code",
   "execution_count": 29,
   "metadata": {},
   "outputs": [
    {
     "name": "stdout",
     "output_type": "stream",
     "text": [
      "6700\n",
      "6700\n"
     ]
    },
    {
     "data": {
      "text/plain": [
       "{'resource_id': '539767076c4d117c6306bdf7f006e1c8',\n",
       " 'news_code': '20190101235323266',\n",
       " 'url': 'http://news.v.daum.net/v/20190101235323266',\n",
       " 'title': '불길 치솟는 양양산불',\n",
       " 'reg_date': '2019-01-01',\n",
       " 'sentences': [' (양양=뉴스1) 고재교 기자 = 1일 강원도 양양군 서면 송천리 일대 야산에서 발생한 산불이 한밤 중에도 강한 바람을 타고 번지고 있다. 2019.1.1/뉴스1',\n",
       "  'high15@news1.kr',\n",
       "  '<저작권자 © 뉴스1코리아, 무단전재 및 재배포 금지> '],\n",
       " 'result_code': '1',\n",
       " 'created_at': '2020-02-29 13:34:14',\n",
       " 'updated_at': '2020-02-29 13:34:14'}"
      ]
     },
     "execution_count": 29,
     "metadata": {},
     "output_type": "execute_result"
    }
   ],
   "source": [
    "# links[0]['counts']\n",
    "total_counts = 0\n",
    "for ele in links:\n",
    "    n = ele['counts']\n",
    "    total_counts += n\n",
    "    \n",
    "print(total_counts)\n",
    "print(len(news_contents))\n",
    "news_contents[2]"
   ]
  },
  {
   "cell_type": "code",
   "execution_count": 16,
   "metadata": {
    "collapsed": true
   },
   "outputs": [
    {
     "data": {
      "text/plain": [
       "[{'resource_id': 'b0d99f623a483d40b8c4c7fd008fbcff',\n",
       "  'news_code': '20190101235354271',\n",
       "  'url': 'http://news.v.daum.net/v/20190101235354271',\n",
       "  'title': '대피소에서 밤 보내는 주민들',\n",
       "  'reg_date': '2019-01-01',\n",
       "  'sentences': [' (양양=뉴스1) 서근영 기자 = 1일 강원도 양양군 서면 송천리 일대 야산에서 발생한 산불로 대피한 정다운마을 주민들이 대피소인 상평초등학교에서 밤을 보내고 있다. 2019.1.1/뉴스1',\n",
       "   'sky4018@news1.kr',\n",
       "   '<저작권자 © 뉴스1코리아, 무단전재 및 재배포 금지> '],\n",
       "  'result_code': '1',\n",
       "  'created_at': '2020-02-29 13:34:09',\n",
       "  'updated_at': '2020-02-29 13:34:09'},\n",
       " {'resource_id': '7d3ae92ebccb7228a58f7e308401010f',\n",
       "  'news_code': '20190101235344270',\n",
       "  'url': 'http://news.v.daum.net/v/20190101235344270',\n",
       "  'title': '양양 산불로 대피소에서 밤 보내는 주민들',\n",
       "  'reg_date': '2019-01-01',\n",
       "  'sentences': [' (양양=뉴스1) 서근영 기자 = 1일 강원도 양양군 서면 송천리 일대 야산에서 발생한 산불로 대피한 정다운마을 주민들이 대피소인 상평초등학교에서 밤을 보내고 있다. 2019.1.1/뉴스1',\n",
       "   'sky4018@news1.kr',\n",
       "   '<저작권자 © 뉴스1코리아, 무단전재 및 재배포 금지> '],\n",
       "  'result_code': '1',\n",
       "  'created_at': '2020-02-29 13:34:13',\n",
       "  'updated_at': '2020-02-29 13:34:13'},\n",
       " {'resource_id': '539767076c4d117c6306bdf7f006e1c8',\n",
       "  'news_code': '20190101235323266',\n",
       "  'url': 'http://news.v.daum.net/v/20190101235323266',\n",
       "  'title': '불길 치솟는 양양산불',\n",
       "  'reg_date': '2019-01-01',\n",
       "  'sentences': [' (양양=뉴스1) 고재교 기자 = 1일 강원도 양양군 서면 송천리 일대 야산에서 발생한 산불이 한밤 중에도 강한 바람을 타고 번지고 있다. 2019.1.1/뉴스1',\n",
       "   'high15@news1.kr',\n",
       "   '<저작권자 © 뉴스1코리아, 무단전재 및 재배포 금지> '],\n",
       "  'result_code': '1',\n",
       "  'created_at': '2020-02-29 13:34:14',\n",
       "  'updated_at': '2020-02-29 13:34:14'},\n",
       " {'resource_id': '3e1654f8ca75d2f19ada15b57a4747db',\n",
       "  'news_code': '20190101235315265',\n",
       "  'url': 'http://news.v.daum.net/v/20190101235315265',\n",
       "  'title': '무섭게 번지는 양양 산불',\n",
       "  'reg_date': '2019-01-01',\n",
       "  'sentences': [' (양양=뉴스1) 고재교 기자 = 1일 강원도 양양군 서면 송천리 일대 야산에서 발생한 산불이 한밤 중에도 강한 바람을 타고 번지고 있다. 2019.1.1/뉴스1',\n",
       "   'high15@news1.kr',\n",
       "   '<저작권자 © 뉴스1코리아, 무단전재 및 재배포 금지> '],\n",
       "  'result_code': '1',\n",
       "  'created_at': '2020-02-29 13:34:18',\n",
       "  'updated_at': '2020-02-29 13:34:18'},\n",
       " {'resource_id': '8564c450d2613d400ac057ac82ec0ed1',\n",
       "  'news_code': '20190101234950238',\n",
       "  'url': 'http://news.v.daum.net/v/20190101234950238',\n",
       "  'title': '양양 산불로 대피한 주민들',\n",
       "  'reg_date': '2019-01-01',\n",
       "  'sentences': [' (양양=뉴스1) 서근영 기자 = 1일 강원도 양양군 서면 송천리 일대 야산에서 발생한 산불로 대피한 정다운마을 주민들이 대피소인 상평초등학교에서 밤을 보내고 있다. 2019.1.1/뉴스1',\n",
       "   'sky4018@news1.kr',\n",
       "   '<저작권자 © 뉴스1코리아, 무단전재 및 재배포 금지> '],\n",
       "  'result_code': '1',\n",
       "  'created_at': '2020-02-29 13:34:21',\n",
       "  'updated_at': '2020-02-29 13:34:21'},\n",
       " {'resource_id': '1978de93e006be2effd2d51d90372bb6',\n",
       "  'news_code': '20190101234936235',\n",
       "  'url': 'http://news.v.daum.net/v/20190101234936235',\n",
       "  'title': '양양 산불로 대피한 마을주민들',\n",
       "  'reg_date': '2019-01-01',\n",
       "  'sentences': [' (양양=뉴스1) 서근영 기자 = 1일 강원도 양양군 서면 송천리 일대 야산에서 발생한 산불로 대피한 주민들이 대피소인 상평초등학교에서 밤을 보내고 있다. 2019.1.1/뉴스1',\n",
       "   'sky4018@news1.kr',\n",
       "   '<저작권자 © 뉴스1코리아, 무단전재 및 재배포 금지> '],\n",
       "  'result_code': '1',\n",
       "  'created_at': '2020-02-29 13:34:25',\n",
       "  'updated_at': '2020-02-29 13:34:25'},\n",
       " {'resource_id': 'a5156636da5dd44d4d543359952cd6d3',\n",
       "  'news_code': '20190101234818223',\n",
       "  'url': 'http://news.v.daum.net/v/20190101234818223',\n",
       "  'title': '산림 집어삼키는 양양 산불',\n",
       "  'reg_date': '2019-01-01',\n",
       "  'sentences': [' (양양=뉴스1) 서근영 기자 = 1일 강원도 양양군 서면 송천리 일대 야산에서 발생한 산불이 한밤 중에도 강한 바람을 타고 번지고 있다. 2019.1.1/뉴스1',\n",
       "   'sky4018@news1.kr',\n",
       "   '<저작권자 © 뉴스1코리아, 무단전재 및 재배포 금지> '],\n",
       "  'result_code': '1',\n",
       "  'created_at': '2020-02-29 13:34:29',\n",
       "  'updated_at': '2020-02-29 13:34:29'},\n",
       " {'resource_id': 'ac71203305776f09874b97dee6dd1521',\n",
       "  'news_code': '20190101234600210',\n",
       "  'url': 'http://news.v.daum.net/v/20190101234600210',\n",
       "  'title': '양양 산불..건조한 날씨에 무서운 기세',\n",
       "  'reg_date': '2019-01-01',\n",
       "  'sentences': [' (양양=뉴스1) 서근영 기자 = 1일 강원도 양양군 서면 송천리 일대 야산에서 발생한 산불이 한밤 중에도 강한 바람을 타고 번지고 있다. 2019.1.1/뉴스1',\n",
       "   'sky4018@news1.kr',\n",
       "   '<저작권자 © 뉴스1코리아, 무단전재 및 재배포 금지> '],\n",
       "  'result_code': '1',\n",
       "  'created_at': '2020-02-29 13:34:32',\n",
       "  'updated_at': '2020-02-29 13:34:32'},\n",
       " {'resource_id': '9376203c3d6b79976c72ec0f303e3f05',\n",
       "  'news_code': '20190101234421201',\n",
       "  'url': 'http://news.v.daum.net/v/20190101234421201',\n",
       "  'title': '무서운 기세로 번지는 양양 산불',\n",
       "  'reg_date': '2019-01-01',\n",
       "  'sentences': [' (양양=뉴스1) 서근영 기자 = 1일 강원도 양양군 서면 송천리 일대 야산에서 발생한 산불이 한밤 중에도 강한 바람을 타고 번지고 있다. 2019.1.1/뉴스1',\n",
       "   'sky4018@news1.kr',\n",
       "   '<저작권자 © 뉴스1코리아, 무단전재 및 재배포 금지> '],\n",
       "  'result_code': '1',\n",
       "  'created_at': '2020-02-29 13:34:37',\n",
       "  'updated_at': '2020-02-29 13:34:37'},\n",
       " {'resource_id': '69eeab50903ed13d0a08a0ede8a68510',\n",
       "  'news_code': '20190101234342198',\n",
       "  'url': 'http://news.v.daum.net/v/20190101234342198',\n",
       "  'title': '양양 산불,번져가는 불길',\n",
       "  'reg_date': '2019-01-01',\n",
       "  'sentences': [' (양양=뉴스1) 서근영 기자 = 1일 강원도 양양군 서면 송천리 일대 야산에서 발생한 산불이 한밤 중에도 강한 바람을 타고 번지고 있다. 2019.1.1/뉴스1',\n",
       "   'sky4018@news1.kr',\n",
       "   '<저작권자 © 뉴스1코리아, 무단전재 및 재배포 금지> '],\n",
       "  'result_code': '1',\n",
       "  'created_at': '2020-02-29 13:34:39',\n",
       "  'updated_at': '2020-02-29 13:34:39'}]"
      ]
     },
     "execution_count": 16,
     "metadata": {},
     "output_type": "execute_result"
    }
   ],
   "source": [
    "for idx, nc in enumerate(news_contents):\n",
    "    d = nc['news_code']\n",
    "    news_contents[idx]['reg_date'] = '{}-{}-{}'.format(d[0:4], d[4:6], d[6:8])\n",
    "\n",
    "news_contents[0:10]"
   ]
  },
  {
   "cell_type": "code",
   "execution_count": null,
   "metadata": {},
   "outputs": [],
   "source": [
    "# df = pd.DataFrame.from_dict(news_contents)\n",
    "# df[df.result_code == '0'][0:10]"
   ]
  },
  {
   "cell_type": "code",
   "execution_count": 7,
   "metadata": {},
   "outputs": [],
   "source": [
    "faild = list(filter(lambda news:news[1]['result_code'] == '0', enumerate(news_contents)))"
   ]
  },
  {
   "cell_type": "code",
   "execution_count": 8,
   "metadata": {},
   "outputs": [
    {
     "data": {
      "text/plain": [
       "1155"
      ]
     },
     "execution_count": 8,
     "metadata": {},
     "output_type": "execute_result"
    }
   ],
   "source": [
    "len(faild)"
   ]
  },
  {
   "cell_type": "code",
   "execution_count": 24,
   "metadata": {
    "collapsed": true
   },
   "outputs": [
    {
     "data": {
      "text/plain": [
       "[(29,\n",
       "  {'resource_id': '',\n",
       "   'news_code': '20190101214141334',\n",
       "   'url': 'http://news.v.daum.net/v/20190101214141334',\n",
       "   'title': '',\n",
       "   'reg_date': '',\n",
       "   'sentences': [],\n",
       "   'result_code': '0',\n",
       "   'created_at': '2020-02-29 13:35:48',\n",
       "   'updated_at': '2020-02-29 13:35:48'}),\n",
       " (32,\n",
       "  {'resource_id': 'c0f9e730dde595d972cb4f2d8a60f95c',\n",
       "   'news_code': '20190101212700201',\n",
       "   'url': 'http://news.v.daum.net/v/20190101212700201',\n",
       "   'title': '양양 산불 강풍에 산세 험해 진화 어려워..주민 145명 대피',\n",
       "   'reg_date': '2019-01-01',\n",
       "   'sentences': ['산림 당국에 따르면 이날 오후 4시 12분께 강원 양양군 서면 송천리 한 야산에서 불이 났다. 이후 당국은 소방과 함께 인력과 장비를 늘려가며 진화에 나섰으나 산세가 험하고 강한 바람 때문에 좀처럼 불길은 꺼지지 않는 상황이다. 게다가 일몰로 산불 진화 주력수단인 헬기 투입이 어려워지면서 밤샘진화작업이 불가피한 상황이다.',\n",
       "    '현재 산불진화대원과 소방대원 등 진화인력 479명과 산불 진화차와 소방펌프차 등 장비 31대가 투입돼 산불 확산 저지선을 구축하며 추가 피해를 막는 데 주력하고 있다.',\n",
       "    '현재까지 5㏊가 탄 것으로 추정하고 있으며 아직 큰 불길을 잡지 못해 피해면적은 늘어날 것으로 보인다.',\n",
       "    \"불길이 능선을 따라 인근 마을 방향으로 번지면서 양양군은 '송천리 주민은 마을회관으로 대피하라'는 재난문자를 보냈다. 이에 송천리 주민 40명이 마을회관으로 몸을 피했고, 장애인 복지시설에 있던 105명은 상평초등학교로 대피했다.\",\n",
       "    '산림 당국은 내일 일출과 동시에 초대형 진화 헬기 1대 등 헬기 9대를 투입해 오전 중으로 진화를 완료할 계획이다. ',\n",
       "    '[디지털뉴스국]'],\n",
       "   'result_code': '1',\n",
       "   'created_at': '2020-02-29 13:35:59',\n",
       "   'updated_at': '2020-03-01 05:50:43'})]"
      ]
     },
     "execution_count": 24,
     "metadata": {},
     "output_type": "execute_result"
    }
   ],
   "source": [
    "faild[0:2]"
   ]
  },
  {
   "cell_type": "code",
   "execution_count": 10,
   "metadata": {},
   "outputs": [],
   "source": [
    "dnc = DaumNewsCollector(1, 5)"
   ]
  },
  {
   "cell_type": "code",
   "execution_count": 22,
   "metadata": {},
   "outputs": [
    {
     "data": {
      "text/plain": [
       "{'resource_id': '',\n",
       " 'news_code': '20190101212700201',\n",
       " 'url': 'http://news.v.daum.net/v/20190101212700201',\n",
       " 'title': '',\n",
       " 'reg_date': '2019-01-01',\n",
       " 'sentences': [],\n",
       " 'result_code': '0',\n",
       " 'created_at': '2020-02-29 13:35:59',\n",
       " 'updated_at': '2020-02-29 13:35:59'}"
      ]
     },
     "execution_count": 22,
     "metadata": {},
     "output_type": "execute_result"
    }
   ],
   "source": [
    "news_contents[32]"
   ]
  },
  {
   "cell_type": "code",
   "execution_count": 30,
   "metadata": {
    "collapsed": true
   },
   "outputs": [
    {
     "name": "stdout",
     "output_type": "stream",
     "text": [
      "Start  1\n",
      "End  1\n",
      "Interval:   3.05sec\n",
      "Start  2\n",
      "End  2\n",
      "Interval:   2.62sec\n",
      "Start  3\n",
      "End  3\n",
      "Interval:   1.76sec\n",
      "Start  4\n",
      "End  4\n",
      "Interval:   3.24sec\n",
      "Start  5\n",
      "End  5\n",
      "Interval:   4.41sec\n",
      "Start  6\n",
      "End  6\n",
      "Interval:   1.82sec\n",
      "Start  7\n",
      "End  7\n",
      "Interval:   4.85sec\n",
      "Start  8\n",
      "End  8\n",
      "Interval:   3.94sec\n",
      "Start  9\n",
      "End  9\n",
      "Interval:   1.93sec\n",
      "Start  10\n",
      "End  10\n",
      "Interval:   2.22sec\n",
      "Start  11\n",
      "End  11\n",
      "Interval:   2.03sec\n",
      "Start  12\n"
     ]
    },
    {
     "ename": "KeyboardInterrupt",
     "evalue": "",
     "output_type": "error",
     "traceback": [
      "\u001b[0;31m---------------------------------------------------------------------------\u001b[0m",
      "\u001b[0;31mKeyboardInterrupt\u001b[0m                         Traceback (most recent call last)",
      "\u001b[0;32m<ipython-input-30-b8693695e31c>\u001b[0m in \u001b[0;36m<module>\u001b[0;34m\u001b[0m\n\u001b[1;32m     12\u001b[0m     \u001b[0mnews_contents\u001b[0m\u001b[0;34m[\u001b[0m\u001b[0midx\u001b[0m\u001b[0;34m]\u001b[0m\u001b[0;34m[\u001b[0m\u001b[0;34m'updated_at'\u001b[0m\u001b[0;34m]\u001b[0m \u001b[0;34m=\u001b[0m \u001b[0mcontent\u001b[0m\u001b[0;34m[\u001b[0m\u001b[0;34m'updated_at'\u001b[0m\u001b[0;34m]\u001b[0m\u001b[0;34m\u001b[0m\u001b[0;34m\u001b[0m\u001b[0m\n\u001b[1;32m     13\u001b[0m     \u001b[0mf\u001b[0m \u001b[0;34m=\u001b[0m \u001b[0muniform\u001b[0m\u001b[0;34m(\u001b[0m\u001b[0;36m1\u001b[0m\u001b[0;34m,\u001b[0m \u001b[0;36m5\u001b[0m\u001b[0;34m)\u001b[0m\u001b[0;34m\u001b[0m\u001b[0;34m\u001b[0m\u001b[0m\n\u001b[0;32m---> 14\u001b[0;31m     \u001b[0mtime\u001b[0m\u001b[0;34m.\u001b[0m\u001b[0msleep\u001b[0m\u001b[0;34m(\u001b[0m\u001b[0mf\u001b[0m\u001b[0;34m)\u001b[0m\u001b[0;34m\u001b[0m\u001b[0;34m\u001b[0m\u001b[0m\n\u001b[0m\u001b[1;32m     15\u001b[0m     \u001b[0mprint\u001b[0m\u001b[0;34m(\u001b[0m\u001b[0;34m'End '\u001b[0m\u001b[0;34m,\u001b[0m \u001b[0mn\u001b[0m\u001b[0;34m)\u001b[0m\u001b[0;34m\u001b[0m\u001b[0;34m\u001b[0m\u001b[0m\n\u001b[1;32m     16\u001b[0m     \u001b[0mprint\u001b[0m\u001b[0;34m(\u001b[0m\u001b[0;34m'Interval:  '\u001b[0m\u001b[0;34m,\u001b[0m \u001b[0mstr\u001b[0m\u001b[0;34m(\u001b[0m\u001b[0;34m'%.2f'\u001b[0m \u001b[0;34m%\u001b[0m \u001b[0mf\u001b[0m\u001b[0;34m)\u001b[0m \u001b[0;34m+\u001b[0m \u001b[0;34m'sec'\u001b[0m\u001b[0;34m)\u001b[0m\u001b[0;34m\u001b[0m\u001b[0;34m\u001b[0m\u001b[0m\n",
      "\u001b[0;31mKeyboardInterrupt\u001b[0m: "
     ]
    }
   ],
   "source": [
    "n = 0\n",
    "for f in faild:\n",
    "    n += 1\n",
    "    print('Start ', n)\n",
    "    idx = f[0]\n",
    "    code = f[1]['news_code']\n",
    "    content = dnc.create_news_contents_data(code)\n",
    "    news_contents[idx]['resource_id'] = content['resource_id']\n",
    "    news_contents[idx]['title'] = content['title']\n",
    "    news_contents[idx]['sentences'] = content['sentences']\n",
    "    news_contents[idx]['result_code'] = '1'\n",
    "    news_contents[idx]['updated_at'] = content['updated_at']\n",
    "    f = uniform(1, 5)\n",
    "    time.sleep(f)\n",
    "    print('End ', n)\n",
    "    print('Interval:  ', str('%.2f' % f) + 'sec')\n"
   ]
  },
  {
   "cell_type": "code",
   "execution_count": 31,
   "metadata": {},
   "outputs": [
    {
     "data": {
      "text/plain": [
       "805"
      ]
     },
     "execution_count": 31,
     "metadata": {},
     "output_type": "execute_result"
    }
   ],
   "source": [
    "# The length of failed_2 should be zero.\n",
    "faild_2 = list(filter(lambda news:news[1]['result_code'] == '0', enumerate(news_contents)))\n",
    "len(faild_2)"
   ]
  },
  {
   "cell_type": "code",
   "execution_count": 27,
   "metadata": {},
   "outputs": [
    {
     "data": {
      "text/plain": [
       "(48,\n",
       " {'resource_id': '',\n",
       "  'news_code': '20190101190001974',\n",
       "  'url': 'http://news.v.daum.net/v/20190101190001974',\n",
       "  'title': '',\n",
       "  'reg_date': '2019-01-01',\n",
       "  'sentences': [],\n",
       "  'result_code': '0',\n",
       "  'created_at': '2020-02-29 13:37:02',\n",
       "  'updated_at': '2020-02-29 13:37:02'})"
      ]
     },
     "execution_count": 27,
     "metadata": {},
     "output_type": "execute_result"
    }
   ],
   "source": [
    "faild_2[0]"
   ]
  },
  {
   "cell_type": "code",
   "execution_count": null,
   "metadata": {},
   "outputs": [],
   "source": [
    "with open('./data/news/news_201901_fixed.json', 'w', encoding='utf-8') as make_file:\n",
    "    json.dump(news_contents, make_file, indent=\"\\t\")"
   ]
  }
 ],
 "metadata": {
  "kernelspec": {
   "display_name": "Python 3",
   "language": "python",
   "name": "python3"
  },
  "language_info": {
   "codemirror_mode": {
    "name": "ipython",
    "version": 3
   },
   "file_extension": ".py",
   "mimetype": "text/x-python",
   "name": "python",
   "nbconvert_exporter": "python",
   "pygments_lexer": "ipython3",
   "version": "3.6.9"
  }
 },
 "nbformat": 4,
 "nbformat_minor": 4
}
